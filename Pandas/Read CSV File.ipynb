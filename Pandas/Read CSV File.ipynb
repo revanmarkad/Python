{
 "cells": [
  {
   "cell_type": "markdown",
   "id": "dc9aa2f4",
   "metadata": {},
   "source": [
    "# Read CSV"
   ]
  },
  {
   "cell_type": "code",
   "execution_count": 34,
   "id": "de37b75f",
   "metadata": {},
   "outputs": [
    {
     "name": "stdout",
     "output_type": "stream",
     "text": [
      "   Unnamed: 0  A   B   C\n",
      "0           0  1   6  11\n",
      "1           1  2   7  12\n",
      "2           2  3   8  13\n",
      "3           3  4   9  14\n",
      "4           4  5  10  15\n"
     ]
    }
   ],
   "source": [
    "import pandas as pd\n",
    "\n",
    "# Specify the encoding parameter\n",
    "d = pd.read_csv(r\"C:\\Users\\Revan\\Desktop\\Pandas\\Test_new.csv\" )\n",
    "\n",
    "# Now, you can proceed to use d\n",
    " \n",
    "print(d)"
   ]
  },
  {
   "cell_type": "code",
   "execution_count": 48,
   "id": "d6066076",
   "metadata": {},
   "outputs": [
    {
     "name": "stdout",
     "output_type": "stream",
     "text": [
      "   Unnamed: 0  A  B   C\n",
      "0           0  1  6  11\n",
      "1           1  2  7  12\n",
      "2           2  3  8  13\n"
     ]
    }
   ],
   "source": [
    "d9=pd.read_csv(r\"C:\\Users\\Revan\\Desktop\\Pandas\\Test_new.csv\",nrows=3)\n",
    "print (d9)"
   ]
  },
  {
   "cell_type": "code",
   "execution_count": 49,
   "id": "b5786a95",
   "metadata": {},
   "outputs": [
    {
     "name": "stdout",
     "output_type": "stream",
     "text": [
      "    C\n",
      "0  11\n",
      "1  12\n",
      "2  13\n",
      "3  14\n",
      "4  15\n"
     ]
    }
   ],
   "source": [
    "d8=pd.read_csv(r\"C:\\Users\\Revan\\Desktop\\Pandas\\Test_new.csv\",usecols=[3])\n",
    "print (d8)"
   ]
  },
  {
   "cell_type": "code",
   "execution_count": 50,
   "id": "5ccf640a",
   "metadata": {},
   "outputs": [
    {
     "name": "stdout",
     "output_type": "stream",
     "text": [
      "   2  3   8  13\n",
      "0  3  4   9  14\n",
      "1  4  5  10  15\n"
     ]
    }
   ],
   "source": [
    "d1=pd.read_csv(r\"C:\\Users\\Revan\\Desktop\\Pandas\\Test_new.csv\",skiprows=3)\n",
    "print (d1)"
   ]
  },
  {
   "cell_type": "code",
   "execution_count": 60,
   "id": "7f5ead62",
   "metadata": {},
   "outputs": [
    {
     "name": "stdout",
     "output_type": "stream",
     "text": [
      "   0  1   6  11\n",
      "0  1  2   7  12\n",
      "1  2  3   8  13\n",
      "2  3  4   9  14\n",
      "3  4  5  10  15\n"
     ]
    }
   ],
   "source": [
    "d2 = pd.read_csv(r\"C:\\Users\\Revan\\Desktop\\Pandas\\Test_new.csv\", header=1)\n",
    "print (d2)"
   ]
  },
  {
   "cell_type": "code",
   "execution_count": 61,
   "id": "6c16a38b",
   "metadata": {},
   "outputs": [
    {
     "name": "stdout",
     "output_type": "stream",
     "text": [
      "   Revan Prathm Anuj Balam\n",
      "0    NaN      A    B     C\n",
      "1    0.0      1    6    11\n",
      "2    1.0      2    7    12\n",
      "3    2.0      3    8    13\n",
      "4    3.0      4    9    14\n",
      "5    4.0      5   10    15\n"
     ]
    }
   ],
   "source": [
    "d3 = pd.read_csv(r\"C:\\Users\\Revan\\Desktop\\Pandas\\Test_new.csv\", names=['Revan','Prathm','Anuj','Balam'])\n",
    "print (d3)"
   ]
  },
  {
   "cell_type": "code",
   "execution_count": 2,
   "id": "3dffaeed",
   "metadata": {},
   "outputs": [
    {
     "name": "stdout",
     "output_type": "stream",
     "text": [
      "   Unnamed: 0  A     B   C\n",
      "0           0  1   6.0  11\n",
      "1           1  2   7.0  12\n",
      "2           2  3   8.0  13\n",
      "3           3  4   9.0  14\n",
      "4           4  5  10.0  15\n"
     ]
    }
   ],
   "source": [
    "d4 = pd.read_csv(r\"C:\\Users\\Revan\\Desktop\\Pandas\\Test_new.csv\",  dtype={'B':\"float\"})\n",
    "print (d4)"
   ]
  },
  {
   "cell_type": "code",
   "execution_count": null,
   "id": "0dbddcdb",
   "metadata": {},
   "outputs": [],
   "source": []
  }
 ],
 "metadata": {
  "kernelspec": {
   "display_name": "Python 3 (ipykernel)",
   "language": "python",
   "name": "python3"
  },
  "language_info": {
   "codemirror_mode": {
    "name": "ipython",
    "version": 3
   },
   "file_extension": ".py",
   "mimetype": "text/x-python",
   "name": "python",
   "nbconvert_exporter": "python",
   "pygments_lexer": "ipython3",
   "version": "3.12.2"
  }
 },
 "nbformat": 4,
 "nbformat_minor": 5
}
