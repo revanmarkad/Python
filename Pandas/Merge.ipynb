{
 "cells": [
  {
   "cell_type": "markdown",
   "id": "edc83e9e",
   "metadata": {},
   "source": [
    "# MERGE"
   ]
  },
  {
   "cell_type": "code",
   "execution_count": 21,
   "id": "74a37e35",
   "metadata": {},
   "outputs": [
    {
     "name": "stdout",
     "output_type": "stream",
     "text": [
      "   A  B   C\n",
      "0  1  6  15\n",
      "1  2  7  16\n",
      "2  3  8  17\n",
      "3  4  9  18\n"
     ]
    }
   ],
   "source": [
    "import pandas as pd\n",
    "\n",
    "data1=pd.DataFrame({\"A\":[1,2,3,4,5],\"B\":[6,7,8,9,10]})\n",
    "\n",
    "data2=pd.DataFrame({\"A\":[1,2,3,4,5],\"C\":[15,16,17,18,20]})\n",
    "\n",
    "print(pd.merge(data1,data2,on=\"A\"))\n",
    " "
   ]
  },
  {
   "cell_type": "code",
   "execution_count": 22,
   "id": "759c31f2",
   "metadata": {},
   "outputs": [
    {
     "name": "stdout",
     "output_type": "stream",
     "text": [
      "   A   B     C\n",
      "0  1   6  15.0\n",
      "1  2   7  16.0\n",
      "2  3   8  17.0\n",
      "3  4   9  18.0\n",
      "4  5  10   NaN\n"
     ]
    }
   ],
   "source": [
    "print(pd.merge(data1,data2,how=\"left\"))\n",
    " "
   ]
  },
  {
   "cell_type": "code",
   "execution_count": 23,
   "id": "3ee28c00",
   "metadata": {},
   "outputs": [
    {
     "name": "stdout",
     "output_type": "stream",
     "text": [
      "   A  B   C\n",
      "0  1  6  15\n",
      "1  2  7  16\n",
      "2  3  8  17\n",
      "3  4  9  18\n"
     ]
    }
   ],
   "source": [
    "print(pd.merge(data1,data2,how=\"right\"))\n",
    " "
   ]
  },
  {
   "cell_type": "code",
   "execution_count": 25,
   "id": "f8cf8393",
   "metadata": {},
   "outputs": [
    {
     "name": "stdout",
     "output_type": "stream",
     "text": [
      "   A   B     C     _merge\n",
      "0  1   6  15.0       both\n",
      "1  2   7  16.0       both\n",
      "2  3   8  17.0       both\n",
      "3  4   9  18.0       both\n",
      "4  5  10   NaN  left_only\n"
     ]
    }
   ],
   "source": [
    "print(pd.merge(data1,data2,how=\"outer\",indicator=True))\n",
    " "
   ]
  },
  {
   "cell_type": "markdown",
   "id": "d209cb09",
   "metadata": {},
   "source": [
    "# concat"
   ]
  },
  {
   "cell_type": "code",
   "execution_count": 26,
   "id": "816c593f",
   "metadata": {},
   "outputs": [
    {
     "name": "stdout",
     "output_type": "stream",
     "text": [
      "0    1\n",
      "1    2\n",
      "2    3\n",
      "3    4\n",
      "dtype: int64\n"
     ]
    }
   ],
   "source": [
    "sr1=pd.Series([1,2,3,4])\n",
    "sr2=pd.Series([5,6,7,8])\n",
    "\n",
    "# print(sr1)\n"
   ]
  },
  {
   "cell_type": "code",
   "execution_count": 28,
   "id": "54af428e",
   "metadata": {},
   "outputs": [
    {
     "data": {
      "text/plain": [
       "0    1\n",
       "1    2\n",
       "2    3\n",
       "3    4\n",
       "0    5\n",
       "1    6\n",
       "2    7\n",
       "3    8\n",
       "dtype: int64"
      ]
     },
     "execution_count": 28,
     "metadata": {},
     "output_type": "execute_result"
    }
   ],
   "source": [
    "pd.concat([sr1,sr2])"
   ]
  },
  {
   "cell_type": "code",
   "execution_count": 40,
   "id": "8bac6e2c",
   "metadata": {},
   "outputs": [
    {
     "data": {
      "text/html": [
       "<div>\n",
       "<style scoped>\n",
       "    .dataframe tbody tr th:only-of-type {\n",
       "        vertical-align: middle;\n",
       "    }\n",
       "\n",
       "    .dataframe tbody tr th {\n",
       "        vertical-align: top;\n",
       "    }\n",
       "\n",
       "    .dataframe thead th {\n",
       "        text-align: right;\n",
       "    }\n",
       "</style>\n",
       "<table border=\"1\" class=\"dataframe\">\n",
       "  <thead>\n",
       "    <tr style=\"text-align: right;\">\n",
       "      <th></th>\n",
       "      <th>A</th>\n",
       "      <th>B</th>\n",
       "      <th>A</th>\n",
       "      <th>B</th>\n",
       "    </tr>\n",
       "  </thead>\n",
       "  <tbody>\n",
       "    <tr>\n",
       "      <th>0</th>\n",
       "      <td>1</td>\n",
       "      <td>6</td>\n",
       "      <td>1</td>\n",
       "      <td>15</td>\n",
       "    </tr>\n",
       "    <tr>\n",
       "      <th>1</th>\n",
       "      <td>2</td>\n",
       "      <td>7</td>\n",
       "      <td>2</td>\n",
       "      <td>16</td>\n",
       "    </tr>\n",
       "    <tr>\n",
       "      <th>2</th>\n",
       "      <td>3</td>\n",
       "      <td>8</td>\n",
       "      <td>3</td>\n",
       "      <td>17</td>\n",
       "    </tr>\n",
       "    <tr>\n",
       "      <th>3</th>\n",
       "      <td>4</td>\n",
       "      <td>9</td>\n",
       "      <td>4</td>\n",
       "      <td>18</td>\n",
       "    </tr>\n",
       "    <tr>\n",
       "      <th>4</th>\n",
       "      <td>5</td>\n",
       "      <td>10</td>\n",
       "      <td>5</td>\n",
       "      <td>20</td>\n",
       "    </tr>\n",
       "  </tbody>\n",
       "</table>\n",
       "</div>"
      ],
      "text/plain": [
       "   A   B  A   B\n",
       "0  1   6  1  15\n",
       "1  2   7  2  16\n",
       "2  3   8  3  17\n",
       "3  4   9  4  18\n",
       "4  5  10  5  20"
      ]
     },
     "execution_count": 40,
     "metadata": {},
     "output_type": "execute_result"
    }
   ],
   "source": [
    "d1=pd.DataFrame({\"A\":[1,2,3,4,5],\"B\":[6,7,8,9,10]})\n",
    "\n",
    "d2=pd.DataFrame({\"A\":[1,2,3,4,5],\"B\":[15,16,17,18,20]})\n",
    "\n",
    "pd.concat([d1,d2],axis=1)"
   ]
  },
  {
   "cell_type": "code",
   "execution_count": 38,
   "id": "71aa3d3f",
   "metadata": {},
   "outputs": [
    {
     "name": "stdout",
     "output_type": "stream",
     "text": [
      "   A   B  A   B\n",
      "0  1   6  1  15\n",
      "1  2   7  2  16\n",
      "2  3   8  3  17\n",
      "3  4   9  4  18\n",
      "4  5  10  5  20\n"
     ]
    }
   ],
   "source": [
    "m=pd.concat([d1,d2],axis=1,join='inner')\n",
    "print(m)"
   ]
  },
  {
   "cell_type": "code",
   "execution_count": null,
   "id": "f2fb26c2",
   "metadata": {},
   "outputs": [],
   "source": []
  }
 ],
 "metadata": {
  "kernelspec": {
   "display_name": "Python 3 (ipykernel)",
   "language": "python",
   "name": "python3"
  },
  "language_info": {
   "codemirror_mode": {
    "name": "ipython",
    "version": 3
   },
   "file_extension": ".py",
   "mimetype": "text/x-python",
   "name": "python",
   "nbconvert_exporter": "python",
   "pygments_lexer": "ipython3",
   "version": "3.11.5"
  }
 },
 "nbformat": 4,
 "nbformat_minor": 5
}
