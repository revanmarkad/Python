{
 "cells": [
  {
   "cell_type": "code",
   "execution_count": 1,
   "id": "8b6c350a",
   "metadata": {},
   "outputs": [],
   "source": [
    "import pandas as pd\n",
    "\n",
    "data=pd.DataFrame({\"A\":[1,2,3,4,5,6],\"B\":[7,8,9,10,11,12]})\n"
   ]
  },
  {
   "cell_type": "code",
   "execution_count": 2,
   "id": "3b028dd6",
   "metadata": {},
   "outputs": [
    {
     "name": "stdout",
     "output_type": "stream",
     "text": [
      "   A  pandas   B\n",
      "0  1       1   7\n",
      "1  2       2   8\n",
      "2  3       3   9\n",
      "3  4       4  10\n",
      "4  5       5  11\n",
      "5  6       6  12\n"
     ]
    }
   ],
   "source": [
    "data.insert(1,\"pandas\",data[\"A\"])\n",
    "print(data)"
   ]
  },
  {
   "cell_type": "code",
   "execution_count": 9,
   "id": "9d8b341b",
   "metadata": {},
   "outputs": [
    {
     "name": "stdout",
     "output_type": "stream",
     "text": [
      "   A  pandas  UID  python2\n",
      "0  1       1  111      1.0\n",
      "1  2       2  222      2.0\n",
      "2  3       3  333      3.0\n",
      "3  4       4  444      NaN\n",
      "4  5       5  555      NaN\n",
      "5  6       6  666      NaN\n"
     ]
    }
   ],
   "source": [
    "data.insert(2,\"UID\",[111,222,333,444,555,666])\n",
    "print(data)"
   ]
  },
  {
   "cell_type": "code",
   "execution_count": 4,
   "id": "5ee05c89",
   "metadata": {},
   "outputs": [
    {
     "name": "stdout",
     "output_type": "stream",
     "text": [
      "   A  pandas  UID   B  python2\n",
      "0  1       1  111   7      1.0\n",
      "1  2       2  222   8      2.0\n",
      "2  3       3  333   9      3.0\n",
      "3  4       4  444  10      NaN\n",
      "4  5       5  555  11      NaN\n",
      "5  6       6  666  12      NaN\n"
     ]
    }
   ],
   "source": [
    "data['python2']=data[\"A\"][:3]\n",
    "print(data)"
   ]
  },
  {
   "cell_type": "markdown",
   "id": "e9704b47",
   "metadata": {},
   "source": [
    "# DELETE"
   ]
  },
  {
   "cell_type": "code",
   "execution_count": 5,
   "id": "3c8935a5",
   "metadata": {},
   "outputs": [
    {
     "name": "stdout",
     "output_type": "stream",
     "text": [
      "   A  pandas  UID  python2\n",
      "0  1       1  111      1.0\n",
      "1  2       2  222      2.0\n",
      "2  3       3  333      3.0\n",
      "3  4       4  444      NaN\n",
      "4  5       5  555      NaN\n",
      "5  6       6  666      NaN\n"
     ]
    }
   ],
   "source": [
    "data.pop(\"B\")\n",
    "print(data)"
   ]
  },
  {
   "cell_type": "code",
   "execution_count": 6,
   "id": "cbcfb954",
   "metadata": {},
   "outputs": [
    {
     "name": "stdout",
     "output_type": "stream",
     "text": [
      "   A  pandas  UID  python2\n",
      "0  1       1  111      1.0\n",
      "1  2       2  222      2.0\n",
      "2  3       3  333      3.0\n",
      "3  4       4  444      NaN\n",
      "4  5       5  555      NaN\n",
      "5  6       6  666      NaN\n"
     ]
    }
   ],
   "source": [
    "print(data)"
   ]
  },
  {
   "cell_type": "code",
   "execution_count": 8,
   "id": "50049496",
   "metadata": {},
   "outputs": [
    {
     "data": {
      "text/plain": [
       "0    111\n",
       "1    222\n",
       "2    333\n",
       "3    444\n",
       "4    555\n",
       "5    666\n",
       "Name: UID, dtype: int64"
      ]
     },
     "execution_count": 8,
     "metadata": {},
     "output_type": "execute_result"
    }
   ],
   "source": [
    "data.pop(\"UID\")"
   ]
  },
  {
   "cell_type": "code",
   "execution_count": null,
   "id": "0c7ea978",
   "metadata": {},
   "outputs": [],
   "source": []
  }
 ],
 "metadata": {
  "kernelspec": {
   "display_name": "Python 3 (ipykernel)",
   "language": "python",
   "name": "python3"
  },
  "language_info": {
   "codemirror_mode": {
    "name": "ipython",
    "version": 3
   },
   "file_extension": ".py",
   "mimetype": "text/x-python",
   "name": "python",
   "nbconvert_exporter": "python",
   "pygments_lexer": "ipython3",
   "version": "3.11.5"
  }
 },
 "nbformat": 4,
 "nbformat_minor": 5
}
