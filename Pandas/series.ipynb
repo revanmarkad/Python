{
 "cells": [
  {
   "cell_type": "code",
   "execution_count": 3,
   "id": "7b325f47",
   "metadata": {
    "metadata": {}
   },
   "outputs": [
    {
     "name": "stdout",
     "output_type": "stream",
     "text": [
      "r    4\n",
      "e    8\n",
      "v    2\n",
      "a    6\n",
      "n    4\n",
      "dtype: int64\n"
     ]
    }
   ],
   "source": [
    "import pandas as pd\n",
    "\n",
    "lst=[4,8,2,6,4]\n",
    "\n",
    "ans=pd.Series(lst,index=['r','e','v','a','n'])\n",
    "print(ans)"
   ]
  },
  {
   "cell_type": "code",
   "execution_count": 4,
   "id": "aa048931",
   "metadata": {
    "metadata": {}
   },
   "outputs": [
    {
     "name": "stdout",
     "output_type": "stream",
     "text": [
      "lan          [pythpn, c, c++, java]\n",
      "star                   [1, 4, 3, 2]\n",
      "fees    [12000, 40000, 20000, 5000]\n",
      "dtype: object\n"
     ]
    }
   ],
   "source": [
    "dic={\"lan\":['pythpn','c','c++','java'], \"star\":[1,4,3,2],\"fees\":[12000,40000,20000,5000]}\n",
    "\n",
    "ans=pd.Series(dic)\n",
    "print(ans)"
   ]
  },
  {
   "cell_type": "code",
   "execution_count": null,
   "id": "1339a765",
   "metadata": {},
   "outputs": [],
   "source": []
  }
 ],
 "metadata": {
  "kernelspec": {
   "display_name": "Python 3 (ipykernel)",
   "language": "python",
   "name": "python3"
  },
  "language_info": {
   "codemirror_mode": {
    "name": "ipython",
    "version": 3
   },
   "file_extension": ".py",
   "mimetype": "text/x-python",
   "name": "python",
   "nbconvert_exporter": "python",
   "pygments_lexer": "ipython3",
   "version": "3.12.2"
  }
 },
 "nbformat": 4,
 "nbformat_minor": 5
}
